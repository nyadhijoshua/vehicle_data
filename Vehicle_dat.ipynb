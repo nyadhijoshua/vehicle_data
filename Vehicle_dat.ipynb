{
  "nbformat": 4,
  "nbformat_minor": 0,
  "metadata": {
    "colab": {
      "provenance": []
    },
    "kernelspec": {
      "name": "python3",
      "display_name": "Python 3"
    },
    "language_info": {
      "name": "python"
    }
  },
  "cells": [
    {
      "cell_type": "markdown",
      "source": [
        "# BUSI650\n",
        "\n",
        "### ASSIGNMENT 1\n",
        "\n",
        "Part 1"
      ],
      "metadata": {
        "id": "4mKZ8pL1elu7"
      }
    },
    {
      "cell_type": "code",
      "execution_count": 3,
      "metadata": {
        "colab": {
          "base_uri": "https://localhost:8080/"
        },
        "id": "y69gWVRjIU6W",
        "outputId": "b07a1599-5afc-427b-f599-92c199e42963"
      },
      "outputs": [
        {
          "output_type": "stream",
          "name": "stdout",
          "text": [
            "      Unnamed: 0 TRIP_SERVICE_TYPE_CODE VEHICLE_ASSIGNMENT_DATETIME  \\\n",
            "0              1                   TAXI             2022-07-26 0:54   \n",
            "1              2                    TNS            2022-01-13 14:13   \n",
            "2              3                    TNS             2021-10-13 3:46   \n",
            "3              4                    TNS             2021-12-05 9:17   \n",
            "4              5                    TNS            2020-09-08 13:14   \n",
            "...          ...                    ...                         ...   \n",
            "1995        1996                    TNS            2021-09-17 13:21   \n",
            "1996        1997                    TNS             2020-03-21 4:50   \n",
            "1997        1998                    TNS            2022-03-26 16:39   \n",
            "1998        1999                   TAXI            2020-11-20 21:54   \n",
            "1999        2000                    TNS             2022-05-03 7:00   \n",
            "\n",
            "     VEHICLE_ASSIGNMENT_AREA  TOTAL_FARE_AMOUNT  TIME_GAP_MIN  \n",
            "0                     ZONE 4              21.60             8  \n",
            "1                     ZONE 1              33.65             7  \n",
            "2                     ZONE 1              14.57             5  \n",
            "3                     ZONE 1              12.12             2  \n",
            "4                     ZONE 1              17.40             8  \n",
            "...                      ...                ...           ...  \n",
            "1995                  ZONE 1              55.24             7  \n",
            "1996                  ZONE 1               3.52             0  \n",
            "1997                  ZONE 1               8.27             5  \n",
            "1998                  ZONE 1               7.95             4  \n",
            "1999                  ZONE 1              36.09             9  \n",
            "\n",
            "[2000 rows x 6 columns]\n"
          ]
        }
      ],
      "source": [
        "import pandas\n",
        "# Get the path to the CSV file\n",
        "#csv_file_path = '/content/Vehicle_data.csv'\n",
        "data=pandas.read_csv(\"/content/sample_data/BUSI650/Vehicle_data.csv\")\n",
        "print(data)"
      ]
    },
    {
      "cell_type": "markdown",
      "source": [
        "# QUESTION ONE\n",
        "\n",
        "### a. What is the shape of the data?"
      ],
      "metadata": {
        "id": "tFY-AN5_WL9P"
      }
    },
    {
      "cell_type": "code",
      "source": [
        "\n",
        "# A\n",
        "# Get the shape of the dataframe\n",
        "shape = data.shape\n",
        "# Print the shape of the dataframe\n",
        "print(shape)"
      ],
      "metadata": {
        "colab": {
          "base_uri": "https://localhost:8080/"
        },
        "id": "QaRsR3c8QVTv",
        "outputId": "42d841b3-de76-483e-85f5-2f6c3b980ffd"
      },
      "execution_count": 4,
      "outputs": [
        {
          "output_type": "stream",
          "name": "stdout",
          "text": [
            "(2000, 6)\n"
          ]
        }
      ]
    },
    {
      "cell_type": "markdown",
      "source": [
        "### b. List the columns in the data."
      ],
      "metadata": {
        "id": "VLj9yEr8WnfK"
      }
    },
    {
      "cell_type": "code",
      "source": [
        "#B\n",
        "# Get the list of columns\n",
        "columns = data.columns\n",
        "\n",
        "# Print the list of columns\n",
        "print(columns)"
      ],
      "metadata": {
        "colab": {
          "base_uri": "https://localhost:8080/"
        },
        "id": "Xu07bgYTR4bL",
        "outputId": "b92b9f17-7731-460c-854a-d106b5a6fd66"
      },
      "execution_count": 5,
      "outputs": [
        {
          "output_type": "stream",
          "name": "stdout",
          "text": [
            "Index(['Unnamed: 0', 'TRIP_SERVICE_TYPE_CODE', 'VEHICLE_ASSIGNMENT_DATETIME',\n",
            "       'VEHICLE_ASSIGNMENT_AREA', 'TOTAL_FARE_AMOUNT', 'TIME_GAP_MIN'],\n",
            "      dtype='object')\n"
          ]
        }
      ]
    },
    {
      "cell_type": "markdown",
      "source": [
        "### c. Use python code to summarize the data by showing the details such as Mean, Median etc. of\n",
        "the columns."
      ],
      "metadata": {
        "id": "bddyLFnIW0dK"
      }
    },
    {
      "cell_type": "code",
      "source": [
        "#C\n",
        "# Print the summary of the dataframe\n",
        "print(data.describe())"
      ],
      "metadata": {
        "colab": {
          "base_uri": "https://localhost:8080/"
        },
        "id": "5KbYUpw3SjUZ",
        "outputId": "93152c46-f51b-4e2d-f508-49af7659dbb3"
      },
      "execution_count": 6,
      "outputs": [
        {
          "output_type": "stream",
          "name": "stdout",
          "text": [
            "        Unnamed: 0  TOTAL_FARE_AMOUNT  TIME_GAP_MIN\n",
            "count  2000.000000        2000.000000    2000.00000\n",
            "mean   1000.500000          17.452645       6.89100\n",
            "std     577.494589          12.583577       5.34129\n",
            "min       1.000000           3.110000       0.00000\n",
            "25%     500.750000           9.577500       3.00000\n",
            "50%    1000.500000          13.800000       6.00000\n",
            "75%    1500.250000          20.755000       9.00000\n",
            "max    2000.000000         123.900000      46.00000\n"
          ]
        }
      ]
    },
    {
      "cell_type": "markdown",
      "source": [
        "### d. List the quantitative and qualitative variables in the data set."
      ],
      "metadata": {
        "id": "7E9mCW9uXAgp"
      }
    },
    {
      "cell_type": "code",
      "source": [
        "#D\n",
        "# Identify the quantitative variables\n",
        "quantitative_variables = [column for column in data.columns if data[column].dtype in ['float', 'int']]\n",
        "\n",
        "# Identify the qualitative variables\n",
        "qualitative_variables = [column for column in data.columns if data[column].dtype == 'object']\n",
        "\n",
        "print('Quantitative variables:', quantitative_variables)\n",
        "print('Qualitative variables:', qualitative_variables)"
      ],
      "metadata": {
        "colab": {
          "base_uri": "https://localhost:8080/"
        },
        "id": "pHlKRpkQT_d2",
        "outputId": "10992619-e8f9-4301-d3b4-e7c771743a46"
      },
      "execution_count": 7,
      "outputs": [
        {
          "output_type": "stream",
          "name": "stdout",
          "text": [
            "Quantitative variables: ['Unnamed: 0', 'TOTAL_FARE_AMOUNT', 'TIME_GAP_MIN']\n",
            "Qualitative variables: ['TRIP_SERVICE_TYPE_CODE', 'VEHICLE_ASSIGNMENT_DATETIME', 'VEHICLE_ASSIGNMENT_AREA']\n"
          ]
        }
      ]
    },
    {
      "cell_type": "markdown",
      "source": [
        "### e. Provide the details regarding the data type of the variables."
      ],
      "metadata": {
        "id": "23sGnyNUXHG3"
      }
    },
    {
      "cell_type": "code",
      "source": [
        "#E\n",
        "# Check the data types of the columns in the dataframe\n",
        "print(data.dtypes)"
      ],
      "metadata": {
        "colab": {
          "base_uri": "https://localhost:8080/"
        },
        "id": "Ir-jhyHvUXcW",
        "outputId": "ab3bfea4-eaee-47b5-b5fd-d584d963eed9"
      },
      "execution_count": 8,
      "outputs": [
        {
          "output_type": "stream",
          "name": "stdout",
          "text": [
            "Unnamed: 0                       int64\n",
            "TRIP_SERVICE_TYPE_CODE          object\n",
            "VEHICLE_ASSIGNMENT_DATETIME     object\n",
            "VEHICLE_ASSIGNMENT_AREA         object\n",
            "TOTAL_FARE_AMOUNT              float64\n",
            "TIME_GAP_MIN                     int64\n",
            "dtype: object\n"
          ]
        }
      ]
    },
    {
      "cell_type": "markdown",
      "source": [
        "## QUESTION TWO"
      ],
      "metadata": {
        "id": "eaVu845XV-wb"
      }
    },
    {
      "cell_type": "markdown",
      "source": [
        "###  Take the column “TIME_GAP_MIN” from the above data set, convert it into python set.\n",
        "Divide each element in the set by 5 using the iteration through “for loop” and save the remainder in new\n",
        "list named as “rem”"
      ],
      "metadata": {
        "id": "S0N74xiIYSIX"
      }
    },
    {
      "cell_type": "markdown",
      "source": [],
      "metadata": {
        "id": "h17JvrUwiHwa"
      }
    },
    {
      "cell_type": "code",
      "source": [
        "# Get the TIME_GAP_MIN column as a set\n",
        "time_gap_min_set = set(data['TIME_GAP_MIN'])\n",
        "\n",
        "# Create a new list to store the remainders\n",
        "rem = []\n",
        "\n",
        "# Iterate through the time_gap_min_set and divide each element by 5\n",
        "for time_gap_min in time_gap_min_set:\n",
        "    rem.append(time_gap_min % 5)\n",
        "\n",
        "print(rem)"
      ],
      "metadata": {
        "colab": {
          "base_uri": "https://localhost:8080/"
        },
        "id": "2CTxcnAXWH-j",
        "outputId": "e8b355eb-26a1-4e39-c1bf-0b5f9aada22c"
      },
      "execution_count": 9,
      "outputs": [
        {
          "output_type": "stream",
          "name": "stdout",
          "text": [
            "[0, 1, 2, 3, 4, 0, 1, 2, 3, 4, 0, 1, 2, 3, 4, 0, 1, 2, 3, 4, 0, 1, 2, 3, 4, 0, 1, 2, 3, 4, 1, 3, 2, 4, 1]\n"
          ]
        }
      ]
    },
    {
      "cell_type": "markdown",
      "source": [
        "https://colab.research.google.com/drive/1TnHma-uWNYrvy7XsauJLX4NOj-C4K_M_#scrollTo=BK60Mfyqfefg"
      ],
      "metadata": {
        "id": "BK60Mfyqfefg"
      }
    }
  ]
}